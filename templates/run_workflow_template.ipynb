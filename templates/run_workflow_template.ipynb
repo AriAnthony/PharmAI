{
 "cells": [
  {
   "cell_type": "code",
   "execution_count": null,
   "id": "7ad0dc64",
   "metadata": {},
   "outputs": [],
   "source": [
    "from "
   ]
  }
 ],
 "metadata": {
  "kernelspec": {
   "display_name": "pharmai",
   "language": "python",
   "name": "python3"
  },
  "language_info": {
   "name": "python",
   "version": "3.12.3"
  }
 },
 "nbformat": 4,
 "nbformat_minor": 5
}
