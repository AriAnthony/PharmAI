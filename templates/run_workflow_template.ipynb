{
 "cells": [
  {
   "cell_type": "markdown",
   "id": "d1d15062",
   "metadata": {},
   "source": []
  },
  {
   "cell_type": "code",
   "execution_count": null,
   "id": "vy28wq9o0ff",
   "metadata": {},
   "outputs": [],
   "source": [
    "import sys\n",
    "import os\n",
    "from pathlib import Path\n",
    "import asyncio\n",
    "from concurrent.futures import ThreadPoolExecutor, as_completed\n",
    "import json\n",
    "\n",
    "# Add src to path (go up one level since we're in templates/)\n",
    "src_path = str(Path.cwd().parent / 'src')\n",
    "if src_path not in sys.path:\n",
    "    sys.path.append(src_path)\n",
    "\n",
    "# Import the tools\n",
    "from tools.extract_tasks_tool import ExtractTasksTool\n",
    "from tools.dspy_repl import DSPyREPL\n",
    "\n",
    "print(\"✅ Successfully imported extract_tasks_tool and dspy_repl_tool\")\n",
    "print(f\"📁 Current working directory: {Path.cwd()}\")\n",
    "print(f\"📍 Added to path: {src_path}\")"
   ]
  }
 ],
 "metadata": {
  "kernelspec": {
   "display_name": "pharmai",
   "language": "python",
   "name": "python3"
  },
  "language_info": {
   "codemirror_mode": {
    "name": "ipython",
    "version": 3
   },
   "file_extension": ".py",
   "mimetype": "text/x-python",
   "name": "python",
   "nbconvert_exporter": "python",
   "pygments_lexer": "ipython3",
   "version": "3.12.3"
  }
 },
 "nbformat": 4,
 "nbformat_minor": 5
}
