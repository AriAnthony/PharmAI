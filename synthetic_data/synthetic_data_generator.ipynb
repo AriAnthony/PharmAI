{
 "cells": [
  {
   "cell_type": "code",
   "execution_count": 1,
   "id": "29a14b8b",
   "metadata": {},
   "outputs": [
    {
     "data": {
      "text/plain": [
       "<dspy.clients.lm.LM at 0x761c36676cf0>"
      ]
     },
     "execution_count": 1,
     "metadata": {},
     "output_type": "execute_result"
    }
   ],
   "source": [
    "# Initialize DSPy\n",
    "import sys\n",
    "import dspy\n",
    "sys.path.append('..')  # Add parent directory to path\n",
    "from dspy_utils import load_dspy_config\n",
    "load_dspy_config(\"../dspy_config.json\")"
   ]
  },
  {
   "cell_type": "code",
   "execution_count": 3,
   "id": "u00awmtw6mo",
   "metadata": {},
   "outputs": [],
   "source": [
    "# Load analysis plan template\n",
    "with open('../templates/analysis_plan_template.md', 'r') as f:\n",
    "    template_content = f.read()\n",
    "\n",
    "# DSPy signature for plan generation\n",
    "class GenerateAnalysisPlan(dspy.Signature):\n",
    "    \"\"\"Generate a population PK/PD analysis plan based on study parameters\"\"\"\n",
    "    drug_name: str = dspy.InputField(desc=\"Name of the drug\")\n",
    "    indication: str = dspy.InputField(desc=\"Disease indication\")\n",
    "    competitor: str = dspy.InputField(desc=\"Competitor drug name\")\n",
    "    trial_type: str = dspy.InputField(desc=\"Type of clinical trial\")\n",
    "    template: str = dspy.InputField(desc=\"Analysis plan template\")\n",
    "    analysis_plan: str = dspy.OutputField(desc=\"Generated analysis plan\")"
   ]
  },
  {
   "cell_type": "code",
   "execution_count": null,
   "id": "wh3flf69jcd",
   "metadata": {},
   "outputs": [],
   "source": [
    "# Generate example plans\n",
    "generate_plan = dspy.ChainOfThought(GenerateAnalysisPlan)\n",
    "\n",
    "# Test with different parameters using made-up drug names\n",
    "examples = [\n",
    "    {\"indication\": \"Type 2 Diabetes\", \"competitor\": \"Metformin\", \"trial_type\": \"Phase 2 dose-finding\", \"drug_name\": \"Glucamax\"},\n",
    "    # {\"indication\": \"Hypertension\", \"competitor\": \"Lisinopril\", \"trial_type\": \"Phase 3 efficacy\", \"drug_name\": \"Cardiogen\"},\n",
    "    # {\"indication\": \"Oncology\", \"competitor\": \"Pembrolizumab\", \"trial_type\": \"Phase 1 dose-escalation\", \"drug_name\": \"Oncotarget\"}\n",
    "]\n",
    "\n",
    "# Create output directory\n",
    "import os\n",
    "output_dir = \"generated_data\"\n",
    "os.makedirs(output_dir, exist_ok=True)"
   ]
  },
  {
   "cell_type": "code",
   "execution_count": 5,
   "id": "074vlkq3w17k",
   "metadata": {},
   "outputs": [],
   "source": [
    "# DSPy signature for R script generation\n",
    "class GenerateTrialSimulation(dspy.Signature):\n",
    "    \"\"\"Generate R script for clinical trial simulation using mrgsolve\"\"\"\n",
    "    analysis_plan: str = dspy.InputField(desc=\"Analysis plan text\")\n",
    "    indication: str = dspy.InputField(desc=\"Disease indication\")\n",
    "    trial_type: str = dspy.InputField(desc=\"Type of clinical trial\")\n",
    "    r_script: str = dspy.OutputField(desc=\"Complete R script using mrgsolve for trial simulation. Output of script should be standard SAS SDTM datsets for PK PD analysis.\")"
   ]
  },
  {
   "cell_type": "code",
   "execution_count": null,
   "id": "r2lgze7qwug",
   "metadata": {},
   "outputs": [],
   "source": [
    "# Generate and save analysis plans and R scripts\n",
    "generate_simulation = dspy.ChainOfThought(GenerateTrialSimulation)\n",
    "\n",
    "for i, params in enumerate(examples):\n",
    "    # Create drug-specific subdirectory\n",
    "    drug_dir = f\"{output_dir}/{params['drug_name']}\"\n",
    "    os.makedirs(drug_dir, exist_ok=True)\n",
    "    \n",
    "    # Generate analysis plan\n",
    "    plan_result = generate_plan(\n",
    "        drug_name=params[\"drug_name\"],\n",
    "        indication=params[\"indication\"],\n",
    "        competitor=params[\"competitor\"], \n",
    "        trial_type=params[\"trial_type\"],\n",
    "        template=template_content\n",
    "    )\n",
    "    \n",
    "    # Generate R script\n",
    "    script_result = generate_simulation(\n",
    "        analysis_plan=plan_result.analysis_plan,\n",
    "        indication=params[\"indication\"],\n",
    "        trial_type=params[\"trial_type\"]\n",
    "    )\n",
    "    \n",
    "    # Save analysis plan in drug subdirectory\n",
    "    plan_filename = f\"{drug_dir}/analysis_plan.md\"\n",
    "    with open(plan_filename, 'w') as f:\n",
    "        f.write(plan_result.analysis_plan)\n",
    "    \n",
    "    # Clean and save R script in drug subdirectory (remove markdown code blocks)\n",
    "    script_filename = f\"{drug_dir}/simulation.R\"\n",
    "    clean_script = script_result.r_script.replace('```r', '').replace('```R', '').replace('```', '').strip()\n",
    "    with open(script_filename, 'w') as f:\n",
    "        f.write(clean_script)\n",
    "    \n",
    "    print(f\"Generated: {params['drug_name']} ({params['indication']}) - files saved to {drug_dir}/\")\n",
    "\n",
    "print(f\"\\nAll files organized in subdirectories under: {output_dir}/\")"
   ]
  },
  {
   "cell_type": "code",
   "execution_count": null,
   "id": "f3cf2827",
   "metadata": {},
   "outputs": [],
   "source": []
  }
 ],
 "metadata": {
  "kernelspec": {
   "display_name": "pharmai",
   "language": "python",
   "name": "python3"
  },
  "language_info": {
   "codemirror_mode": {
    "name": "ipython",
    "version": 3
   },
   "file_extension": ".py",
   "mimetype": "text/x-python",
   "name": "python",
   "nbconvert_exporter": "python",
   "pygments_lexer": "ipython3",
   "version": "3.12.3"
  }
 },
 "nbformat": 4,
 "nbformat_minor": 5
}
